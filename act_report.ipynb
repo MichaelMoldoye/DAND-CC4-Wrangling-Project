{
 "cells": [
  {
   "cell_type": "markdown",
   "metadata": {},
   "source": [
    "# Act Report\n",
    "\n",
    "## Michael Mosin\n",
    "\n",
    "#### 415-468 word written report that communicates the insights and displays the visualizations produced from my wrangled data."
   ]
  },
  {
   "cell_type": "markdown",
   "metadata": {},
   "source": [
    "Hello! Welcome to my WeRateDogs Twitter Data Wrangling Project. My name is Michael Mosin, and I have worked very hard on getting this data cleaned and worthy of analysis. Below are some of my assessments and associated visuals.\n",
    "\n",
    "My variables of interest were dog types, ratings, count of favorites, and count of retweets."
   ]
  },
  {
   "cell_type": "markdown",
   "metadata": {},
   "source": [
    "### Assessment of Dogtionary Dog Type Usage in Tweet Text\n",
    "\n",
    "#### Insight:"
   ]
  },
  {
   "cell_type": "markdown",
   "metadata": {},
   "source": [
    "It appears that when WeRateDogs does decide to describe dogs using Dogtionary nomenclature, the most common instances of doing so are for describing the smallest / youngest of dogs. This does not necessarily determine whether the majority of WeRateDog tweets are of 'puppers,' however, there is a greater chance of that being the case."
   ]
  },
  {
   "cell_type": "code",
   "execution_count": null,
   "metadata": {},
   "outputs": [],
   "source": [
    "# Reference: https://stackoverflow.com/questions/32891211/limit-the-number-of-groups-shown-in-seaborn-countplot\n",
    "ax = sns.countplot(data = df, x ='dog_type', \n",
    "                  color = sns.color_palette()[0], \n",
    "                  order=df.dog_type.value_counts().index);\n",
    "plt.xticks(rotation=30)\n",
    "plt.title('Dogtionary Dog Types in Tweets, \\n Sorted by Count')\n",
    "ax.set_xlabel('Dog Type(s)')\n",
    "ax.set_ylabel('Number of Tweets Dog Types Appeared In')\n",
    "\n",
    "#Reference: https://stackoverflow.com/questions/39519609/annotate-bars-with-values-on-pandas-on-seaborn-factorplot-bar-plot\n",
    "for p in ax.patches:\n",
    "    ax.annotate('{:.0f}'.format(p.get_height()), \n",
    "                (p.get_x() + p.get_width() / 2.,\n",
    "                 p.get_height()+2), \n",
    "                ha='center')"
   ]
  },
  {
   "cell_type": "code",
   "execution_count": null,
   "metadata": {},
   "outputs": [],
   "source": [
    "# Reference: https://stackoverflow.com/questions/41801419/drawing-bar-charts-from-boolean-fields\n",
    "df1 = df[['pupper','puppo','doggo','floofer']].apply(pd.value_counts)\n",
    "ax = df1.loc[True].plot.bar();\n",
    "\n",
    "plt.title('Dogtionary Dog Types Appearances in Tweets, \\n Sorted by Dog Size')\n",
    "ax.set_xlabel('Dog Types')\n",
    "ax.set_ylabel('Number of Tweets Dog Types Appeared In')\n",
    "\n",
    "for p in ax.patches:\n",
    "    ax.annotate('{:.0f}'.format(p.get_height()), \n",
    "                (p.get_x() + p.get_width() / 2.,\n",
    "                 p.get_height()+2), \n",
    "                ha='center')"
   ]
  },
  {
   "cell_type": "markdown",
   "metadata": {},
   "source": [
    "### Assessment of Averaged Ratings in Dataset\n",
    "\n",
    "#### Insight:"
   ]
  },
  {
   "cell_type": "markdown",
   "metadata": {},
   "source": [
    "Outside of a few outliers way out to the right, the general distribution of averaged ratings is left-skewed, with the densest ratings having the numerator value of 10-13. It is interesting to see that, despite the WeRateDogs Twitter account having a trademark of giving out ratings of 10 or greater, they still fairly often give out ratings below 10."
   ]
  },
  {
   "cell_type": "code",
   "execution_count": null,
   "metadata": {},
   "outputs": [],
   "source": [
    "df['avg_rating'] = df.rating_numerator / df.rating_denominator\n",
    "\n",
    "bins = np.arange(-.25, df.avg_rating.max()+0.25, 0.1)\n",
    "ax = plt.hist(df.avg_rating, bins = bins)\n",
    "\n",
    "plt.xlim([-0.05,1.5])\n",
    "locs, labels = plt.xticks()\n",
    "plt.xticks(locs, (locs*10).astype('int64'));\n",
    "\n",
    "plt.title('Histogram of Averaged Ratings,\\n sans outliers')\n",
    "plt.xlabel('Average Numerator (for a rating out of 10)');"
   ]
  },
  {
   "cell_type": "markdown",
   "metadata": {},
   "source": [
    "### Assessment of Favorite Counts vs Retweet Counts\n",
    "\n",
    "#### Insight:"
   ]
  },
  {
   "cell_type": "markdown",
   "metadata": {},
   "source": [
    "It appears that, although 'favorite_count' and 'retweet_count' have a quite high positive correlation (r = 0.913), there is also demonstrable heteroscedasticity."
   ]
  },
  {
   "cell_type": "code",
   "execution_count": null,
   "metadata": {},
   "outputs": [],
   "source": [
    "df[['favorite_count','retweet_count']].corr()"
   ]
  },
  {
   "cell_type": "code",
   "execution_count": null,
   "metadata": {},
   "outputs": [],
   "source": [
    "plt.scatter(df.favorite_count, df.retweet_count, alpha = .25)\n",
    "plt.xlim([0,45000])\n",
    "plt.ylim([0,25000])\n",
    "plt.title('Favorite Counts vs Retweet Counts, \\n zoomed in')\n",
    "plt.xlabel('Favorites Count');\n",
    "plt.ylabel('Retweet Count');"
   ]
  },
  {
   "cell_type": "markdown",
   "metadata": {},
   "source": [
    "### Assessment of Distribution of Dog Type Relative to Averaged Rating\n",
    "\n",
    "#### Insight:"
   ]
  },
  {
   "cell_type": "markdown",
   "metadata": {},
   "source": [
    "Now it might be due to a small non-representative sample size (one that may have lead to inflation in value due to rarity), but of the dogs described with Dogtionary taxonomy, 'puppos' have the highest mean average rating. They are followed by 'floofers,' then 'doggos,' and then 'puppers' by quite a large margin. That may be because 'puppers' appear more often, and therefore have more opportunities to get stale. Or, they are the youngest category, and therefore have the most room to grow, especially after - for instance - having been caught being naughty."
   ]
  },
  {
   "cell_type": "code",
   "execution_count": null,
   "metadata": {},
   "outputs": [],
   "source": [
    "# Reference: https://stackoverflow.com/questions/8671808/matplotlib-avoiding-overlapping-datapoints-in-a-scatter-dot-beeswarm-plot\n",
    "plt.figure(figsize= (8,4))\n",
    "sns.swarmplot('dog_type', 'avg_rating', data=df)\n",
    "locs, labels = plt.yticks()\n",
    "plt.yticks(locs, (locs*10).astype('int64'));\n",
    "plt.xticks(rotation=30);\n",
    "plt.title('Dog Types and Their Spread of Averaged Ratings')\n",
    "plt.xlabel('Dog Type');\n",
    "plt.ylabel('Averaged Rating');"
   ]
  },
  {
   "cell_type": "code",
   "execution_count": null,
   "metadata": {},
   "outputs": [],
   "source": [
    "print('Pupper - Mean Averaged Rating: ', df[df['pupper']==True]['avg_rating'].mean()*10)\n",
    "print('Puppo - Mean Averaged Rating: ', df[df['puppo']==True]['avg_rating'].mean()*10)\n",
    "print('Doggo - Mean Averaged Rating: ', df[df['doggo']==True]['avg_rating'].mean()*10)\n",
    "print('Floofer - Mean Averaged Rating: ', df[df['floofer']==True]['avg_rating'].mean()*10)"
   ]
  },
  {
   "cell_type": "markdown",
   "metadata": {},
   "source": [
    "### Assessment of Averaged Rating vs Retweet Count, then vs Favorite Count, all while incorporating Dog Types\n",
    "\n",
    "#### Insight:"
   ]
  },
  {
   "cell_type": "markdown",
   "metadata": {},
   "source": [
    "We see that as ratings increase, so do favorites and the retweets. However, it's hard to tell from the plots how much more 'pup'-ular the different dog types are compared to one another, so some calculations were in order.\n",
    "\n",
    "Since favorite counts and retweet counts appear to be rising exponentially, the 'average' for any dog type would be skewed severely by posts that had gone viral. Instead, looking at the median number of favorites and retweet for the dog types, we see that puppers are abysmally low relative to the rest of the pack. My unsubstantiated speculation is that that for the followers of WeRateDogs, the novelty of 'puppers' had worn off."
   ]
  },
  {
   "cell_type": "code",
   "execution_count": null,
   "metadata": {},
   "outputs": [],
   "source": [
    "sns.pairplot(x_vars=['avg_rating'], y_vars=['favorite_count'], data=df, hue = 'dog_type', height = 6);\n",
    "plt.xlim([0.25,1.5]);\n",
    "plt.ylim([0,55000]);\n",
    "locs, labels = plt.xticks()\n",
    "plt.xticks(locs, (locs*10).astype('int64'));"
   ]
  },
  {
   "cell_type": "code",
   "execution_count": null,
   "metadata": {},
   "outputs": [],
   "source": [
    "sns.pairplot(x_vars=['avg_rating'], y_vars=['favorite_count'], data=df, hue = 'dog_type', height = 6);\n",
    "plt.xlim([0.25,1.5]);\n",
    "plt.ylim([0,55000]);\n",
    "locs, labels = plt.xticks()\n",
    "plt.xticks(locs, (locs*10).astype('int64'));"
   ]
  },
  {
   "cell_type": "code",
   "execution_count": null,
   "metadata": {},
   "outputs": [],
   "source": [
    "print('Pupper - Median Retweet Count: ', df[df['pupper']==True]['retweet_count'].median())\n",
    "print('Puppo - Median Retweet Count: ', df[df['puppo']==True]['retweet_count'].median())\n",
    "print('Doggo - Median Retweet Count: ', df[df['doggo']==True]['retweet_count'].median())\n",
    "print('Floofer - Median Retweet Count: ', df[df['floofer']==True]['retweet_count'].median())"
   ]
  },
  {
   "cell_type": "code",
   "execution_count": null,
   "metadata": {},
   "outputs": [],
   "source": [
    "print('Pupper - Median Favorite Count: ', df[df['pupper']==True]['favorite_count'].median())\n",
    "print('Puppo - Median Favorite Count: ', df[df['puppo']==True]['favorite_count'].median())\n",
    "print('Doggo - Median Favorite Count: ', df[df['doggo']==True]['favorite_count'].median())\n",
    "print('Floofer - Median Favorite Count: ', df[df['floofer']==True]['favorite_count'].median())"
   ]
  },
  {
   "cell_type": "markdown",
   "metadata": {},
   "source": [
    "Thank you for taking the time to read this report!\n",
    "I hope you found that there was something of interest to you along the way. "
   ]
  }
 ],
 "metadata": {
  "kernelspec": {
   "display_name": "Python 3",
   "language": "python",
   "name": "python3"
  },
  "language_info": {
   "codemirror_mode": {
    "name": "ipython",
    "version": 3
   },
   "file_extension": ".py",
   "mimetype": "text/x-python",
   "name": "python",
   "nbconvert_exporter": "python",
   "pygments_lexer": "ipython3",
   "version": "3.7.3"
  }
 },
 "nbformat": 4,
 "nbformat_minor": 2
}
